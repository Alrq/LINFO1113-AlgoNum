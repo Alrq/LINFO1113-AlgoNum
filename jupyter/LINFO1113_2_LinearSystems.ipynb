{
 "cells": [
  {
   "cell_type": "markdown",
   "metadata": {},
   "source": [
    "# Gauss Elmination"
   ]
  },
  {
   "cell_type": "code",
   "execution_count": 112,
   "metadata": {
    "ExecuteTime": {
     "end_time": "2019-10-03T12:34:26.900771Z",
     "start_time": "2019-10-03T12:34:26.885659Z"
    }
   },
   "outputs": [],
   "source": [
    "import numpy as np\n",
    "\n",
    "def gaussElimin(a,b):\n",
    "    n = len(b)\n",
    "  # Elimination Phase\n",
    "    for k in range(0,n-1): #iterate on rows\n",
    "        for i in range(k+1,n): \n",
    "           if a[i,k] != 0.0:\n",
    "               lam = a [i,k]/a[k,k]\n",
    "               a[i,k+1:n] = a[i,k+1:n] - lam*a[k,k+1:n]\n",
    "               b[i] = b[i] - lam*b[k]\n",
    "                \n",
    "  # Back substitution\n",
    "    for k in range(n-1,-1,-1):\n",
    "        b[k] = (b[k] - np.dot(a[k,k+1:n],b[k+1:n]))/a[k,k]\n",
    "    return b"
   ]
  },
  {
   "cell_type": "code",
   "execution_count": 113,
   "metadata": {
    "ExecuteTime": {
     "end_time": "2019-10-03T12:34:27.397590Z",
     "start_time": "2019-10-03T12:34:27.379515Z"
    }
   },
   "outputs": [
    {
     "data": {
      "text/plain": [
       "array([[ 1,  1, -2],\n",
       "       [ 0,  1, -1],\n",
       "       [ 3, -1,  1]])"
      ]
     },
     "metadata": {},
     "output_type": "display_data"
    },
    {
     "data": {
      "text/plain": [
       "array([-3, -1,  4])"
      ]
     },
     "metadata": {},
     "output_type": "display_data"
    },
    {
     "data": {
      "text/plain": [
       "array([1, 2, 3])"
      ]
     },
     "execution_count": 113,
     "metadata": {},
     "output_type": "execute_result"
    }
   ],
   "source": [
    "A = np.array([[1,1,-2],[0,1,-1],[3,-1,1]])\n",
    "display(A)\n",
    "\n",
    "b = np.array([-3,-1,4])\n",
    "display(b)\n",
    "\n",
    "gaussElimin(A,b)"
   ]
  },
  {
   "cell_type": "markdown",
   "metadata": {},
   "source": [
    "# Doolitle Decomposition"
   ]
  },
  {
   "cell_type": "code",
   "execution_count": 114,
   "metadata": {
    "ExecuteTime": {
     "end_time": "2019-10-03T12:34:29.645664Z",
     "start_time": "2019-10-03T12:34:29.610055Z"
    }
   },
   "outputs": [
    {
     "data": {
      "text/plain": [
       "array([[ 1,  1, -2],\n",
       "       [ 0,  1, -1],\n",
       "       [ 3, -1,  1]])"
      ]
     },
     "metadata": {},
     "output_type": "display_data"
    },
    {
     "data": {
      "text/plain": [
       "array([-3, -1,  4])"
      ]
     },
     "metadata": {},
     "output_type": "display_data"
    },
    {
     "data": {
      "text/plain": [
       "array([[ 1,  1, -2],\n",
       "       [ 0,  1, -1],\n",
       "       [ 3, -4,  3]])"
      ]
     },
     "metadata": {},
     "output_type": "display_data"
    },
    {
     "data": {
      "text/plain": [
       "array([1, 2, 3])"
      ]
     },
     "metadata": {},
     "output_type": "display_data"
    }
   ],
   "source": [
    "def LUdecomp(a):\n",
    "    n = len(a)\n",
    "    for k in range(0,n-1):\n",
    "        for i in range(k+1,n):\n",
    "           if a[i,k] != 0.0:\n",
    "               lam = a [i,k]/a[k,k]\n",
    "               a[i,k+1:n] = a[i,k+1:n] - lam*a[k,k+1:n]\n",
    "               a[i,k] = lam\n",
    "    return a #Return the combined matrix LU\n",
    "\n",
    "def LUsolve(a,b):\n",
    "    #a contains the matrix LU\n",
    "    n = len(a)\n",
    "    #LY=B forward substitution (b is replaced with the solution of Y)\n",
    "    for k in range(1,n):\n",
    "        b[k] = b[k] - np.dot(a[k,0:k],b[0:k])\n",
    "    #UX=Y backward substitution (b=Y is replaced with the solution of X)\n",
    "    b[n-1] = b[n-1]/a[n-1,n-1]    \n",
    "    for k in range(n-2,-1,-1):\n",
    "       b[k] = (b[k] - np.dot(a[k,k+1:n],b[k+1:n]))/a[k,k]\n",
    "    return b\n",
    "\n",
    "\n",
    "A = np.array([[1,1,-2],[0,1,-1],[3,-1,1]])\n",
    "display(A)\n",
    "\n",
    "b = np.array([-3,-1,4])\n",
    "display(b)\n",
    "\n",
    "LU=LUdecomp(A)\n",
    "display(LU)\n",
    "\n",
    "display(LUsolve(LU,b))"
   ]
  },
  {
   "cell_type": "markdown",
   "metadata": {
    "ExecuteTime": {
     "end_time": "2019-09-19T08:39:31.452519Z",
     "start_time": "2019-09-19T08:39:31.441550Z"
    }
   },
   "source": [
    "# choleski descomposition"
   ]
  },
  {
   "cell_type": "code",
   "execution_count": 115,
   "metadata": {
    "ExecuteTime": {
     "end_time": "2019-10-03T13:17:01.368195Z",
     "start_time": "2019-10-03T13:17:01.345847Z"
    }
   },
   "outputs": [],
   "source": [
    "import numpy as np\n",
    "import math\n",
    "\n",
    "def choleski(a):\n",
    "    n = len(a)\n",
    "    for k in range(n):\n",
    "        try:\n",
    "            a[k,k] = math.sqrt(a[k,k] - np.dot(a[k,0:k],a[k,0:k]))\n",
    "        except ValueError:\n",
    "            raise Exception('Matrix is not positive definite')\n",
    "        for i in range(k+1,n):\n",
    "            a[i,k] = (a[i,k] - np.dot(a[i,0:k],a[k,0:k]))/a[k,k]\n",
    "    for k in range(1,n): a[0:k,k] = 0.0 #erase upper triangle\n",
    "    return a\n",
    "\n",
    "def choleskiSol(L,b):\n",
    "    n = len(b)\n",
    "  # Solution of [L]{y} = {b}  \n",
    "    for k in range(n):\n",
    "        b[k] = (b[k] - np.dot(L[k,0:k],b[0:k]))/L[k,k]\n",
    "  # Solution of [L_transpose]{x} = {y}      \n",
    "    for k in range(n-1,-1,-1):\n",
    "        b[k] = (b[k] - np.dot(L[k+1:n,k],b[k+1:n]))/L[k,k]\n",
    "    return b\n"
   ]
  },
  {
   "cell_type": "code",
   "execution_count": 116,
   "metadata": {
    "ExecuteTime": {
     "end_time": "2019-10-03T13:17:01.807367Z",
     "start_time": "2019-10-03T13:17:01.779578Z"
    }
   },
   "outputs": [
    {
     "data": {
      "text/plain": [
       "array([[ 2., -1.,  0.],\n",
       "       [-1.,  2., -1.],\n",
       "       [ 0., -1.,  2.]], dtype=float32)"
      ]
     },
     "metadata": {},
     "output_type": "display_data"
    },
    {
     "data": {
      "text/plain": [
       "array([-3, -1,  4])"
      ]
     },
     "metadata": {},
     "output_type": "display_data"
    },
    {
     "data": {
      "text/plain": [
       "array([[ 1.4142135 ,  0.        ,  0.        ],\n",
       "       [-0.70710677,  1.2247449 ,  0.        ],\n",
       "       [ 0.        , -0.81649655,  1.1547005 ]], dtype=float32)"
      ]
     },
     "metadata": {},
     "output_type": "display_data"
    },
    {
     "data": {
      "text/plain": [
       "array([-1,  0,  1])"
      ]
     },
     "metadata": {},
     "output_type": "display_data"
    }
   ],
   "source": [
    "A = np.array([[2,-1,0],[-1,2,-1],[0,-1,2]], np.float32)\n",
    "display(A)\n",
    "\n",
    "b = np.array([-3,-1,4])\n",
    "display(b)\n",
    "\n",
    "L = choleski(A)\n",
    "display(L)\n",
    "\n",
    "x = choleskiSol(L,b)\n",
    "display(x)"
   ]
  },
  {
   "cell_type": "markdown",
   "metadata": {},
   "source": [
    "# tri-diagonal matrices"
   ]
  },
  {
   "cell_type": "code",
   "execution_count": 117,
   "metadata": {
    "ExecuteTime": {
     "end_time": "2019-10-03T13:29:49.164238Z",
     "start_time": "2019-10-03T13:29:49.149387Z"
    }
   },
   "outputs": [],
   "source": [
    "def LUdecomp3(c,d,e):\n",
    "    n = len(d)\n",
    "    for k in range(1,n):\n",
    "        lam = c[k-1]/d[k-1]\n",
    "        d[k] = d[k] - lam*e[k-1]\n",
    "        c[k-1] = lam\n",
    "    return c,d,e\n",
    "\n",
    "def LUsolve3(c,d,e,b):\n",
    "    n = len(d)\n",
    "    for k in range(1,n):\n",
    "        b[k] = b[k] - c[k-1]*b[k-1]\n",
    "    b[n-1] = b[n-1]/d[n-1]\n",
    "    for k in range(n-2,-1,-1):\n",
    "        b[k] = (b[k] - e[k]*b[k+1])/d[k]\n",
    "    return b"
   ]
  },
  {
   "cell_type": "code",
   "execution_count": 118,
   "metadata": {
    "ExecuteTime": {
     "end_time": "2019-10-03T13:30:20.850322Z",
     "start_time": "2019-10-03T13:30:20.802704Z"
    }
   },
   "outputs": [
    {
     "data": {
      "text/plain": [
       "'c'"
      ]
     },
     "metadata": {},
     "output_type": "display_data"
    },
    {
     "data": {
      "text/plain": [
       "array([1., 2., 3., 4.], dtype=float32)"
      ]
     },
     "metadata": {},
     "output_type": "display_data"
    },
    {
     "data": {
      "text/plain": [
       "'d'"
      ]
     },
     "metadata": {},
     "output_type": "display_data"
    },
    {
     "data": {
      "text/plain": [
       "array([1., 2., 3., 4., 5.], dtype=float32)"
      ]
     },
     "metadata": {},
     "output_type": "display_data"
    },
    {
     "data": {
      "text/plain": [
       "'e'"
      ]
     },
     "metadata": {},
     "output_type": "display_data"
    },
    {
     "data": {
      "text/plain": [
       "array([1., 2., 3., 4.], dtype=float32)"
      ]
     },
     "metadata": {},
     "output_type": "display_data"
    },
    {
     "data": {
      "text/plain": [
       "'A'"
      ]
     },
     "metadata": {},
     "output_type": "display_data"
    },
    {
     "data": {
      "text/plain": [
       "array([[1., 1., 0., 0., 0.],\n",
       "       [1., 2., 2., 0., 0.],\n",
       "       [0., 2., 3., 3., 0.],\n",
       "       [0., 0., 3., 4., 4.],\n",
       "       [0., 0., 0., 4., 5.]], dtype=float32)"
      ]
     },
     "metadata": {},
     "output_type": "display_data"
    },
    {
     "data": {
      "text/plain": [
       "'b'"
      ]
     },
     "metadata": {},
     "output_type": "display_data"
    },
    {
     "data": {
      "text/plain": [
       "array([1., 2., 3., 4., 5.], dtype=float32)"
      ]
     },
     "metadata": {},
     "output_type": "display_data"
    }
   ],
   "source": [
    "c = np.array([1, 2, 3, 4], np.float32)\n",
    "d = np.array([1, 2, 3, 4, 5], np.float32)\n",
    "e = np.array([1, 2, 3, 4], np.float32)\n",
    "display(\"c\", c)\n",
    "display(\"d\", d)\n",
    "display(\"e\", e)\n",
    "\n",
    "from scipy.sparse import diags\n",
    "A = diags([c,d,e], [-1, 0, 1]).toarray().copy()\n",
    "display(\"A\", A)\n",
    "\n",
    "b = np.array([1,2,3,4,5], np.float32)\n",
    "display(\"b\", b)"
   ]
  },
  {
   "cell_type": "code",
   "execution_count": 119,
   "metadata": {
    "ExecuteTime": {
     "end_time": "2019-10-03T13:30:54.362823Z",
     "start_time": "2019-10-03T13:30:54.353219Z"
    }
   },
   "outputs": [
    {
     "data": {
      "text/plain": [
       "array([-0.16326511,  1.1632651 , -0.08163255,  0.30612248,  0.755102  ],\n",
       "      dtype=float32)"
      ]
     },
     "execution_count": 119,
     "metadata": {},
     "output_type": "execute_result"
    }
   ],
   "source": [
    "LUc,LUd,LUe = LUdecomp3(c,d,e)\n",
    "x3 = LUsolve3(LUc,LUd,LUe,b.copy())\n",
    "x3"
   ]
  },
  {
   "cell_type": "markdown",
   "metadata": {},
   "source": [
    "#### verifying solution"
   ]
  },
  {
   "cell_type": "code",
   "execution_count": 120,
   "metadata": {
    "ExecuteTime": {
     "end_time": "2019-10-03T13:31:21.103554Z",
     "start_time": "2019-10-03T13:31:21.094735Z"
    }
   },
   "outputs": [
    {
     "data": {
      "text/plain": [
       "array([1., 2., 3., 4., 5.], dtype=float32)"
      ]
     },
     "execution_count": 120,
     "metadata": {},
     "output_type": "execute_result"
    }
   ],
   "source": [
    "np.matmul(A,x3)"
   ]
  },
  {
   "cell_type": "markdown",
   "metadata": {},
   "source": [
    "### solving with standard LU"
   ]
  },
  {
   "cell_type": "code",
   "execution_count": 121,
   "metadata": {
    "ExecuteTime": {
     "end_time": "2019-10-03T13:31:40.075373Z",
     "start_time": "2019-10-03T13:31:40.067785Z"
    }
   },
   "outputs": [],
   "source": [
    "LU=LUdecomp(A.copy())\n",
    "x = LUsolve(LU,b.copy())"
   ]
  },
  {
   "cell_type": "markdown",
   "metadata": {},
   "source": [
    "#### verifying solution"
   ]
  },
  {
   "cell_type": "code",
   "execution_count": 122,
   "metadata": {
    "ExecuteTime": {
     "end_time": "2019-10-03T13:31:41.830408Z",
     "start_time": "2019-10-03T13:31:41.807896Z"
    }
   },
   "outputs": [
    {
     "data": {
      "text/plain": [
       "'LU'"
      ]
     },
     "metadata": {},
     "output_type": "display_data"
    },
    {
     "data": {
      "text/plain": [
       "array([[ 1.        ,  1.        ,  0.        ,  0.        ,  0.        ],\n",
       "       [ 1.        ,  1.        ,  2.        ,  0.        ,  0.        ],\n",
       "       [ 0.        ,  2.        , -1.        ,  3.        ,  0.        ],\n",
       "       [ 0.        ,  0.        , -3.        , 13.        ,  4.        ],\n",
       "       [ 0.        ,  0.        ,  0.        ,  0.30769232,  3.7692308 ]],\n",
       "      dtype=float32)"
      ]
     },
     "metadata": {},
     "output_type": "display_data"
    },
    {
     "data": {
      "text/plain": [
       "'x'"
      ]
     },
     "metadata": {},
     "output_type": "display_data"
    },
    {
     "data": {
      "text/plain": [
       "array([-0.16326511,  1.1632651 , -0.08163255,  0.30612248,  0.755102  ],\n",
       "      dtype=float32)"
      ]
     },
     "metadata": {},
     "output_type": "display_data"
    },
    {
     "data": {
      "text/plain": [
       "array([1., 2., 3., 4., 5.], dtype=float32)"
      ]
     },
     "execution_count": 122,
     "metadata": {},
     "output_type": "execute_result"
    }
   ],
   "source": [
    "display(\"LU\", LU)\n",
    "display(\"x\", x)\n",
    "np.matmul(A,x)"
   ]
  },
  {
   "cell_type": "markdown",
   "metadata": {},
   "source": [
    "## Gauss-Seidel"
   ]
  },
  {
   "cell_type": "code",
   "execution_count": 123,
   "metadata": {
    "ExecuteTime": {
     "end_time": "2019-10-03T13:53:50.121319Z",
     "start_time": "2019-10-03T13:53:50.107992Z"
    }
   },
   "outputs": [],
   "source": [
    "def gaussSeidel(iterEqs,x,tol = 1.0e-9):\n",
    "    omega = 1.0\n",
    "    k = 10\n",
    "    p = 1\n",
    "    for i in range(1,501):\n",
    "        xOld = x.copy()\n",
    "        x = iterEqs(x,omega)\n",
    "        dx = np.sqrt(np.dot(x-xOld,x-xOld))\n",
    "        print(\"running iteration %3d  dx=%6.2e\" % (i,dx) )\n",
    "        if dx < tol: return x,i,omega\n",
    "      # Compute relaxation factor after k+p iterations\n",
    "        if i == k: dx1 = dx\n",
    "        if i == k + p:\n",
    "            dx2 = dx\n",
    "            omega = 2.0/(1.0 + math.sqrt(1.0 - (dx2/dx1)**(1.0/p)))\n",
    "    print('Gauss-Seidel failed to converge')\n",
    "    \n"
   ]
  },
  {
   "cell_type": "code",
   "execution_count": 124,
   "metadata": {
    "ExecuteTime": {
     "end_time": "2019-10-03T13:53:50.667924Z",
     "start_time": "2019-10-03T13:53:50.633779Z"
    }
   },
   "outputs": [
    {
     "data": {
      "text/plain": [
       "array([[ 5.,  1., -2.],\n",
       "       [ 0.,  5., -1.],\n",
       "       [ 3., -1.,  5.]])"
      ]
     },
     "metadata": {},
     "output_type": "display_data"
    },
    {
     "data": {
      "text/plain": [
       "array([-3., -1.,  4.])"
      ]
     },
     "metadata": {},
     "output_type": "display_data"
    },
    {
     "name": "stdout",
     "output_type": "stream",
     "text": [
      "running iteration   1  dx=1.29e+00\n",
      "running iteration   2  dx=5.91e-01\n",
      "running iteration   3  dx=1.70e-01\n",
      "running iteration   4  dx=4.82e-02\n",
      "running iteration   5  dx=1.37e-02\n",
      "running iteration   6  dx=3.90e-03\n",
      "running iteration   7  dx=1.11e-03\n",
      "running iteration   8  dx=3.16e-04\n",
      "running iteration   9  dx=8.98e-05\n",
      "running iteration  10  dx=2.55e-05\n",
      "running iteration  11  dx=7.25e-06\n",
      "running iteration  12  dx=2.28e-06\n",
      "running iteration  13  dx=9.86e-07\n",
      "running iteration  14  dx=4.86e-07\n",
      "running iteration  15  dx=2.74e-07\n",
      "running iteration  16  dx=1.74e-07\n",
      "running iteration  17  dx=1.00e-07\n",
      "running iteration  18  dx=4.74e-08\n",
      "running iteration  19  dx=1.50e-08\n",
      "running iteration  20  dx=0.00e+00\n",
      "x [-0.2244898  -0.01360544  0.9319728 ]\n",
      "i 20\n",
      "omega 1.0834399612526664\n"
     ]
    }
   ],
   "source": [
    "A = np.array([[5,1,-2],[0,5,-1],[3,-1,5]], dtype=np.float64)\n",
    "display(A)\n",
    "\n",
    "b = np.array([-3,-1,4], dtype=np.float64)\n",
    "display(b)\n",
    "\n",
    "def iterEqs(x,omega):\n",
    "    n = len(x)\n",
    "    for i in range(n):        \n",
    "        new  = b[i]\n",
    "        for j in range(n):\n",
    "            if(i==j):continue\n",
    "            new -= A[i,j]*x[j]\n",
    "        x[i] = ((1-omega)*x[i]) + ((omega/A[i,i]) * new)        \n",
    "    return x\n",
    "    \n",
    "x0 = np.array([0,0,0], np.float32)\n",
    "x,i,omega = gaussSeidel(iterEqs,x0)\n",
    "print(\"x\",x)\n",
    "print(\"i\",i)\n",
    "print(\"omega\",omega)"
   ]
  },
  {
   "cell_type": "markdown",
   "metadata": {},
   "source": [
    "### compare with GausseElimination"
   ]
  },
  {
   "cell_type": "code",
   "execution_count": 125,
   "metadata": {
    "ExecuteTime": {
     "end_time": "2019-10-03T13:54:42.276586Z",
     "start_time": "2019-10-03T13:54:42.266822Z"
    }
   },
   "outputs": [
    {
     "data": {
      "text/plain": [
       "array([-0.2244898 , -0.01360544,  0.93197279])"
      ]
     },
     "execution_count": 125,
     "metadata": {},
     "output_type": "execute_result"
    }
   ],
   "source": [
    "gaussElimin(A,b)"
   ]
  },
  {
   "cell_type": "code",
   "execution_count": null,
   "metadata": {},
   "outputs": [],
   "source": []
  }
 ],
 "metadata": {
  "kernelspec": {
   "display_name": "Python 3",
   "language": "python",
   "name": "python3"
  },
  "language_info": {
   "codemirror_mode": {
    "name": "ipython",
    "version": 3
   },
   "file_extension": ".py",
   "mimetype": "text/x-python",
   "name": "python",
   "nbconvert_exporter": "python",
   "pygments_lexer": "ipython3",
   "version": "3.5.2"
  },
  "varInspector": {
   "cols": {
    "lenName": 16,
    "lenType": 16,
    "lenVar": 40
   },
   "kernels_config": {
    "python": {
     "delete_cmd_postfix": "",
     "delete_cmd_prefix": "del ",
     "library": "var_list.py",
     "varRefreshCmd": "print(var_dic_list())"
    },
    "r": {
     "delete_cmd_postfix": ") ",
     "delete_cmd_prefix": "rm(",
     "library": "var_list.r",
     "varRefreshCmd": "cat(var_dic_list()) "
    }
   },
   "types_to_exclude": [
    "module",
    "function",
    "builtin_function_or_method",
    "instance",
    "_Feature"
   ],
   "window_display": false
  }
 },
 "nbformat": 4,
 "nbformat_minor": 2
}
