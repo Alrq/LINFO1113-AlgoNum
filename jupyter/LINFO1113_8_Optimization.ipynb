{
 "cells": [
  {
   "cell_type": "code",
   "execution_count": null,
   "metadata": {
    "ExecuteTime": {
     "end_time": "2019-11-28T12:53:48.924405Z",
     "start_time": "2019-11-28T12:53:48.548136Z"
    }
   },
   "outputs": [],
   "source": [
    "%matplotlib inline\n",
    "import numpy as np\n",
    "import matplotlib.pyplot as plt"
   ]
  },
  {
   "cell_type": "code",
   "execution_count": null,
   "metadata": {
    "ExecuteTime": {
     "end_time": "2019-11-28T12:53:48.998507Z",
     "start_time": "2019-11-28T12:53:48.928611Z"
    }
   },
   "outputs": [],
   "source": [
    "import math\n",
    "def VisualInspection(ax, f, a, b, dx, **kwargs):\n",
    "    x = np.arange(a,b+dx,dx)\n",
    "    y = f(x)\n",
    "    plt.plot(x, y, **kwargs)\n",
    "    plt.xlabel('x')\n",
    "    plt.ylabel('y')\n",
    "\n",
    "def bracket(f,x1,h):\n",
    "    c = 1.618033989 \n",
    "    f1 = f(x1)\n",
    "    x2 = x1 + h; f2 = f(x2)\n",
    "  # Determine downhill direction and change sign of h if needed\n",
    "    if f2 > f1:\n",
    "        h = -h\n",
    "        x2 = x1 + h; f2 = f(x2)\n",
    "      # Check if minimum between x1 - h and x1 + h\n",
    "        if f2 > f1: return x2,x1 - h \n",
    "  # Search loop\n",
    "    for i in range (100):    \n",
    "        h = c*h\n",
    "        x3 = x2 + h; f3 = f(x3)\n",
    "        if f3 > f2: return x1,x3\n",
    "        x1 = x2; x2 = x3\n",
    "        f1 = f2; f2 = f3\n",
    "    print(\"Bracket did not find a mimimum\")\n",
    "\n",
    "def search(f,a,b,tol=1.0e-9):\n",
    "    nIter = int(math.ceil(-2.078087*math.log(tol/abs(b-a))))\n",
    "    R = 0.618033989\n",
    "    C = 1.0 - R\n",
    "  # First telescoping\n",
    "    x1 = R*a + C*b; x2 = C*a + R*b\n",
    "    f1 = f(x1); f2 = f(x2)\n",
    "  # Main loop\n",
    "    for i in range(nIter):\n",
    "        if f1 > f2:\n",
    "            a = x1\n",
    "            x1 = x2; f1 = f2\n",
    "            x2 = C*a + R*b; f2 = f(x2)\n",
    "        else:\n",
    "            b = x2\n",
    "            x2 = x1; f2 = f1\n",
    "            x1 = R*a + C*b; f1 = f(x1)\n",
    "    if f1 < f2: return x1,f1\n",
    "    else: return x2,f2"
   ]
  },
  {
   "cell_type": "markdown",
   "metadata": {},
   "source": [
    "# Example1\n",
    "\n",
    "\n",
    "### Minimize:\n",
    "- $\\large f(x) = 1.6x^3+3.0 x^2-2.0 x$\n",
    "- with $\\large x \\geq = 0$\n",
    "\n",
    "### Modified problem:\n",
    "- $\\large f^{*}(x) = 1.6x^3+3.0 x^2-2.0 x + \\lambda [min(0,x)]^2$\n"
   ]
  },
  {
   "cell_type": "code",
   "execution_count": null,
   "metadata": {
    "ExecuteTime": {
     "end_time": "2019-11-28T12:53:49.040941Z",
     "start_time": "2019-11-28T12:53:49.003002Z"
    }
   },
   "outputs": [],
   "source": [
    "x = np.arange(0,10,1)\n",
    "np.minimum(x,0)"
   ]
  },
  {
   "cell_type": "code",
   "execution_count": null,
   "metadata": {
    "ExecuteTime": {
     "end_time": "2019-11-28T12:53:49.487633Z",
     "start_time": "2019-11-28T12:53:49.046130Z"
    }
   },
   "outputs": [],
   "source": [
    "def f(x):\n",
    "    return 1.6*x**3 + 3.0*x**2 - 2.0*x\n",
    "\n",
    "def fstar(x):\n",
    "    lam = 1.0 # Constraint multiplier\n",
    "    c = np.minimum(0, x) # Constraint function\n",
    "    return f(x) + lam*c**2\n",
    "\n",
    "xStart = 1.0\n",
    "h      = 0.01\n",
    "x1,x2  = bracket(fstar,xStart,h)\n",
    "print(\"bracket\", x1, x2)\n",
    "\n",
    "x,fMin = search(fstar,x1,x2)\n",
    "print(\"x =\",x)\n",
    "print(\"f(x) =\",fMin)\n",
    "\n",
    "fig, ax = plt.subplots(figsize=(12, 8))\n",
    "VisualInspection(ax, f, -1, 1.5, 0.05, color=\"blue\", linestyle=\"-\", label=\"f(x)\")\n",
    "VisualInspection(ax, fstar, -1, 1.5, 0.05, color=\"black\", linestyle=\"-\", label=\"f*(x)\")\n",
    "plt.plot(x, fMin, \"o\", color=\"black\", markersize=5)\n",
    "ax.legend()"
   ]
  },
  {
   "cell_type": "markdown",
   "metadata": {},
   "source": [
    "# Example2\n",
    "\n",
    "Find R that minimizes the temperature"
   ]
  },
  {
   "cell_type": "code",
   "execution_count": null,
   "metadata": {
    "ExecuteTime": {
     "end_time": "2019-11-28T12:53:49.862342Z",
     "start_time": "2019-11-28T12:53:49.493674Z"
    },
    "scrolled": false
   },
   "outputs": [],
   "source": [
    "q = 50.0\n",
    "a = 5.0\n",
    "k = 0.16\n",
    "h = 20.0\n",
    "Tinf = 280\n",
    "\n",
    "def f(r):    \n",
    "    return (q/2*np.pi)*((np.log(r/a)/k) + (1/(h*r))  ) + Tinf\n",
    "\n",
    "def fstar(x):\n",
    "    lam = 100.0 # Constraint multiplier\n",
    "    c = np.minimum(0, x-a) # Constraint function\n",
    "    return f(x) + lam*c**2\n",
    "\n",
    "xStart = a+1.0\n",
    "h      = 0.01\n",
    "x1,x2  = bracket(fstar,xStart,h)\n",
    "print(\"bracket\", x1, x2)\n",
    "\n",
    "x,fMin = search(fstar,x1,x2)\n",
    "print(\"x =\",x)\n",
    "print(\"f(x) =\",fMin)\n",
    "\n",
    "fig, ax = plt.subplots(figsize=(12, 8))\n",
    "VisualInspection(ax, f, 3, 40, 0.05, color=\"blue\", linestyle=\"-\", label=\"f(x)\")\n",
    "VisualInspection(ax, fstar, 3, 40, 0.05, color=\"black\", linestyle=\"-\", label=\"f*(x)\")\n",
    "plt.plot(x, fMin, \"o\", color=\"black\", markersize=5)\n",
    "ax.legend()"
   ]
  },
  {
   "cell_type": "markdown",
   "metadata": {},
   "source": [
    "# Powell"
   ]
  },
  {
   "cell_type": "code",
   "execution_count": null,
   "metadata": {
    "ExecuteTime": {
     "end_time": "2019-11-28T12:53:49.902766Z",
     "start_time": "2019-11-28T12:53:49.874672Z"
    }
   },
   "outputs": [],
   "source": [
    "def powell(F,x,h=0.1,tol=1.0e-6, sequences=None):\n",
    "    \n",
    "    def f(s): return F(x + s*v)    # F in direction of v\n",
    "\n",
    "    if(sequences is not None):sequences+=[x.copy()]\n",
    "    n = len(x)                     # Number of design variables\n",
    "    df = np.zeros(n)               # Decreases of F stored here\n",
    "    u = np.identity(n)             # Vectors v stored here by rows\n",
    "    for j in range(30):            # Allow for 30 cycles:\n",
    "        \n",
    "        xOld = x.copy()            # Save starting point\n",
    "        fOld = F(xOld)\n",
    "      # First n line searches record decreases of F\n",
    "        for i in range(n):\n",
    "            v = u[i]\n",
    "            a,b = bracket(f,0.0,h)\n",
    "            s,fMin = search(f,a,b)\n",
    "            df[i] = fOld - fMin\n",
    "            fOld = fMin\n",
    "            x = x + s*v\n",
    "      # Last line search in the cycle    \n",
    "        v = x - xOld\n",
    "        a,b = bracket(f,0.0,h)\n",
    "        s,fLast = search(f,a,b)\n",
    "        x = x + s*v\n",
    "        if(sequences is not None):sequences+=[x.copy()]\n",
    "      # Check for convergence\n",
    "        if math.sqrt(np.dot(x-xOld,x-xOld)/n) < tol: return x,j+1\n",
    "      # Identify biggest decrease & update search directions\n",
    "        iMax = np.argmax(df)\n",
    "        for i in range(iMax,n-1):\n",
    "            u[i] = u[i+1]\n",
    "        u[n-1] = v\n",
    "    print(\"Powell did not converge\")\n",
    "        \n",
    "    \n",
    "\n",
    "    "
   ]
  },
  {
   "cell_type": "markdown",
   "metadata": {},
   "source": [
    "# Example3\n",
    "\n",
    "Find the miminum to\n",
    "- $\\Large 100(y-x^2)^2 + (1-x)^2$"
   ]
  },
  {
   "cell_type": "code",
   "execution_count": null,
   "metadata": {
    "ExecuteTime": {
     "end_time": "2019-11-28T12:53:49.948210Z",
     "start_time": "2019-11-28T12:53:49.913238Z"
    }
   },
   "outputs": [],
   "source": [
    "def F(x): \n",
    "    return 100.0*(x[1] - x[0]**2)**2 + (1 - x[0])**2\n",
    "\n",
    "xStart = np.array([-1.0, 1.0])\n",
    "sequences = []\n",
    "xMin,nIter = powell(F,xStart, sequences=sequences)\n",
    "\n",
    "print(\"x =\",xMin)\n",
    "print(\"F(x) =\",F(xMin))\n",
    "print(\"Number of cycles =\",nIter)"
   ]
  },
  {
   "cell_type": "code",
   "execution_count": null,
   "metadata": {
    "ExecuteTime": {
     "end_time": "2019-11-28T12:53:50.864574Z",
     "start_time": "2019-11-28T12:53:49.962895Z"
    }
   },
   "outputs": [],
   "source": [
    "import matplotlib.pyplot as plt\n",
    "from mpl_toolkits.mplot3d import Axes3D\n",
    "fig = plt.figure(figsize=(16, 12))\n",
    "ax = fig.add_subplot(111, projection='3d')\n",
    "\n",
    "X = np.arange(-1.5, 1.5, 0.1)\n",
    "Y = np.arange(-1.5, 1.5, 0.1)\n",
    "X, Y = np.meshgrid(X, Y)\n",
    "Z = F(np.array([X,Y]))\n",
    "ax.plot_surface(X,Y,Z,cmap='rainbow_r', edgecolor='none')\n",
    "for i,point in enumerate(sequences):\n",
    "    z = F(point)\n",
    "    ax.plot([point[0]],[point[1]],[z], 'o', color=\"black\", markersize=10)\n",
    "    ax.text(point[0],point[1],z+25, \"P%d\"%i, color='black',  fontsize=15 )\n",
    "\n",
    "ax.set_xlabel('x')\n",
    "ax.set_ylabel('y')\n",
    "ax.set_zlabel('z')\n",
    "ax.view_init(50, 65)\n"
   ]
  },
  {
   "cell_type": "markdown",
   "metadata": {},
   "source": [
    "### same with another starting point"
   ]
  },
  {
   "cell_type": "code",
   "execution_count": null,
   "metadata": {
    "ExecuteTime": {
     "end_time": "2019-11-28T12:53:50.906366Z",
     "start_time": "2019-11-28T12:53:50.875313Z"
    }
   },
   "outputs": [],
   "source": [
    "def F(x): \n",
    "    return 100.0*(x[1] - x[0]**2)**2 + (1 - x[0])**2\n",
    "\n",
    "xStart = np.array([-1.0, -1.0])\n",
    "sequences = []\n",
    "xMin,nIter = powell(F,xStart, sequences=sequences)\n",
    "\n",
    "print(\"x =\",xMin)\n",
    "print(\"F(x) =\",F(xMin))\n",
    "print(\"Number of cycles =\",nIter)"
   ]
  },
  {
   "cell_type": "code",
   "execution_count": null,
   "metadata": {
    "ExecuteTime": {
     "end_time": "2019-11-28T12:53:51.687768Z",
     "start_time": "2019-11-28T12:53:50.910227Z"
    }
   },
   "outputs": [],
   "source": [
    "import matplotlib.pyplot as plt\n",
    "from mpl_toolkits.mplot3d import Axes3D\n",
    "fig = plt.figure(figsize=(16, 12))\n",
    "ax = fig.add_subplot(111, projection='3d')\n",
    "\n",
    "X = np.arange(-1.5, 1.5, 0.1)\n",
    "Y = np.arange(-1.5, 1.5, 0.1)\n",
    "X, Y = np.meshgrid(X, Y)\n",
    "Z = F(np.array([X,Y]))\n",
    "ax.plot_surface(X,Y,Z,cmap='rainbow_r', edgecolor='none')\n",
    "for i,point in enumerate(sequences):\n",
    "    z = F(point)\n",
    "    ax.plot([point[0]],[point[1]],[z], 'o', color=\"black\", markersize=10)\n",
    "    ax.text(point[0],point[1],z+25, \"P%d\"%i, color='black',  fontsize=15 )\n",
    "\n",
    "ax.set_xlabel('x')\n",
    "ax.set_ylabel('y')\n",
    "ax.set_zlabel('z')\n",
    "ax.view_init(50, 65)\n"
   ]
  },
  {
   "cell_type": "markdown",
   "metadata": {},
   "source": [
    "## Example 4\n",
    "\n",
    "- $\\Large F(x,y) = (𝑥−5)^2+(𝑦−8)^2$\n",
    "- With $\\Large 𝑥𝑦−5=0 $\n"
   ]
  },
  {
   "cell_type": "code",
   "execution_count": null,
   "metadata": {
    "ExecuteTime": {
     "end_time": "2019-11-28T12:53:51.715986Z",
     "start_time": "2019-11-28T12:53:51.693732Z"
    }
   },
   "outputs": [],
   "source": [
    "def F(x):    \n",
    "    return (x[0]-5)**2 + (x[1]-8)**2\n",
    "\n",
    "def Fstar(x):\n",
    "    lam = 1.0 #10000.0 # Constraint multiplier\n",
    "    c = (x[0]*x[1])-5 # Constraint function\n",
    "    return F(x) + lam*c**2\n",
    "\n",
    "\n",
    "xStart = np.array([0.0, 0.0])\n",
    "#xStart = np.array([0.73306759, 7.58776401])\n",
    "sequences = []\n",
    "xMin,nIter = powell(Fstar,xStart, sequences=sequences)\n",
    "\n",
    "print(\"x =\",xMin)\n",
    "print(\"F(x) =\",F(xMin))\n",
    "print(\"Number of cycles =\",nIter)"
   ]
  },
  {
   "cell_type": "code",
   "execution_count": null,
   "metadata": {
    "ExecuteTime": {
     "end_time": "2019-11-28T12:53:55.355778Z",
     "start_time": "2019-11-28T12:53:51.719672Z"
    }
   },
   "outputs": [],
   "source": [
    "#SHOW FIGURE OF F\n",
    "\n",
    "import matplotlib.pyplot as plt\n",
    "from mpl_toolkits.mplot3d import Axes3D\n",
    "fig = plt.figure(figsize=(16, 12))\n",
    "ax = fig.add_subplot(111, projection='3d')\n",
    "\n",
    "#show the surface\n",
    "X = np.arange(-10, 10, 0.1)\n",
    "Y = np.arange(-10, 10, 0.1)\n",
    "X, Y = np.meshgrid(X, Y)\n",
    "Z = F(np.array([X,Y]))\n",
    "ax.plot_surface(X,Y,Z,cmap='rainbow_r', edgecolor='none')\n",
    "\n",
    "#show the constraint on the surface\n",
    "YC = np.arange(0, 10, 1.0)\n",
    "XC = 5/YC\n",
    "ZC = F(np.array([XC,YC]))\n",
    "ax.plot(XC,YC,ZC,color=\"blue\", linewidth=5.0, label=\"constraint\")\n",
    "\n",
    "\n",
    "for i,point in enumerate(sequences):\n",
    "    z = F(point)\n",
    "    ax.plot([point[0]],[point[1]],[z], 'o', color=\"black\", markersize=10)\n",
    "    ax.text(point[0],point[1],z+3, \"P%d\"%i, color='black',  fontsize=15 )\n",
    "\n",
    "ax.set_xlabel('x')\n",
    "ax.set_ylabel('y')\n",
    "ax.set_zlabel('z')\n",
    "ax.view_init(50, 65)\n",
    "ax.legend()\n",
    "\n",
    "#SHOW FIGURE OF F star\n",
    "\n",
    "import matplotlib.pyplot as plt\n",
    "from mpl_toolkits.mplot3d import Axes3D\n",
    "fig = plt.figure(figsize=(16, 12))\n",
    "ax = fig.add_subplot(111, projection='3d')\n",
    "\n",
    "#show the surface\n",
    "X = np.arange(-10, 10, 0.1)\n",
    "Y = np.arange(-10, 10, 0.1)\n",
    "X, Y = np.meshgrid(X, Y)\n",
    "Z = Fstar(np.array([X,Y]))\n",
    "ax.plot_surface(X,Y,Z,cmap='rainbow_r', edgecolor='none')\n",
    "\n",
    "for i,point in enumerate(sequences):\n",
    "    z = F(point)\n",
    "    ax.plot([point[0]],[point[1]],[z], 'o', color=\"black\", markersize=10)\n",
    "    ax.text(point[0],point[1],z+3, \"P%d\"%i, color='black',  fontsize=15 )\n",
    "\n",
    "ax.set_xlabel('x')\n",
    "ax.set_ylabel('y')\n",
    "ax.set_zlabel('z')\n",
    "ax.view_init(50, 65)\n",
    "ax.legend()\n"
   ]
  },
  {
   "cell_type": "markdown",
   "metadata": {},
   "source": [
    "## Example 5 (CAN dimension optimization)"
   ]
  },
  {
   "cell_type": "code",
   "execution_count": null,
   "metadata": {
    "ExecuteTime": {
     "end_time": "2019-11-28T12:53:55.391982Z",
     "start_time": "2019-11-28T12:53:55.361286Z"
    }
   },
   "outputs": [],
   "source": [
    "\n",
    "def F(x):    \n",
    "    r = x[0]\n",
    "    h = x[1]\n",
    "    return 2*np.pi*(0.015*r**2 + 0.01*r*h)\n",
    "\n",
    "def volume(x):\n",
    "    r = x[0]\n",
    "    h = x[1]    \n",
    "    return np.pi*h*r**2\n",
    "\n",
    "def Fstar(x):\n",
    "    lam = 1.0E-3 #10000.0 # Constraint multiplier\n",
    "    c = np.minimum(0,volume(x)-330) # Constraint function\n",
    "    return F(x) + lam*c**2\n",
    "\n",
    "\n",
    "xStart = np.array([5.0, 10.0])\n",
    "#xStart = np.array([3.27049441, 9.81148308])\n",
    "sequences = []\n",
    "xMin,nIter = powell(Fstar,xStart, sequences=sequences)\n",
    "\n",
    "print(\"x =\",xMin)\n",
    "print(\"F(x) =\",F(xMin))\n",
    "print(\"Number of cycles =\",nIter)\n",
    "print(\"Volume=\", volume(xMin))"
   ]
  },
  {
   "cell_type": "code",
   "execution_count": null,
   "metadata": {
    "ExecuteTime": {
     "end_time": "2019-11-28T12:53:57.131619Z",
     "start_time": "2019-11-28T12:53:55.397597Z"
    }
   },
   "outputs": [],
   "source": [
    "\n",
    "import matplotlib.pyplot as plt\n",
    "from mpl_toolkits.mplot3d import Axes3D\n",
    "fig = plt.figure(figsize=(16, 12))\n",
    "ax = fig.add_subplot(111, projection='3d')\n",
    "\n",
    "#show the surface\n",
    "X = np.arange(2, 5, 0.05)\n",
    "Y = np.arange(5, 15, 0.05)\n",
    "X, Y = np.meshgrid(X, Y)\n",
    "Z = Fstar(np.array([X,Y]))\n",
    "#ax.plot_surface(X,Y,np.log(Z+0.0001),cmap='rainbow_r', edgecolor='none', cstride=2, rstride=2)\n",
    "ax.plot_surface(X,Y,Z,cmap='rainbow_r', edgecolor='none', cstride=2, rstride=2)\n",
    "\n",
    "\n",
    "\n",
    "for i,point in enumerate(sequences):\n",
    "    z = F(point)\n",
    "    ax.plot([point[0]],[point[1]],[z], 'o', color=\"black\", markersize=10)\n",
    "    ax.text(point[0],point[1],z+0.2, \"P%d\"%i, color='black',  fontsize=15 )\n",
    "\n",
    "ax.set_xlabel('r')\n",
    "ax.set_ylabel('h')\n",
    "ax.set_zlabel('log(F)')\n",
    "#ax.set_zscale(\"log\")\n",
    "ax.view_init(30, 105)\n",
    "ax.legend()\n"
   ]
  },
  {
   "cell_type": "markdown",
   "metadata": {},
   "source": [
    "# Downhill simplex"
   ]
  },
  {
   "cell_type": "code",
   "execution_count": null,
   "metadata": {
    "ExecuteTime": {
     "end_time": "2019-11-28T12:53:57.168700Z",
     "start_time": "2019-11-28T12:53:57.135645Z"
    }
   },
   "outputs": [],
   "source": [
    "## module downhill\n",
    "''' x = downhill(F,xStart,side=0.1,tol=1.0e-6)\n",
    "    Downhill simplex method for minimizing the user-supplied\n",
    "    scalar function F(x) with respect to the vector x.\n",
    "    xStart = starting vector x.\n",
    "    side   = side length of the starting simplex (default is 0.1)\n",
    "'''\n",
    "import numpy as np\n",
    "import math\n",
    "\n",
    "def downhill(F,xStart,side=0.1,tol=1.0e-6, sequences=None):\n",
    "    n = len(xStart)                 # Number of variables\n",
    "    x = np.zeros((n+1,n)) \n",
    "    f = np.zeros(n+1)\n",
    "    \n",
    "  # Generate starting simplex\n",
    "    x[0] = xStart\n",
    "    for i in range(1,n+1):\n",
    "        x[i] = xStart\n",
    "        x[i,i-1] = xStart[i-1] + side        \n",
    "  # Compute values of F at the vertices of the simplex     \n",
    "    for i in range(n+1): f[i] = F(x[i])\n",
    "\n",
    "        \n",
    "  # Main loop\n",
    "    for k in range(500):\n",
    "        if(sequences is not None):\n",
    "            sequences+=[x.copy()]\n",
    "        \n",
    "      # Find highest and lowest vertices\n",
    "        iLo = np.argmin(f)\n",
    "        iHi = np.argmax(f)       \n",
    "      # Compute the move vector d\n",
    "        d = (-(n+1)*x[iHi] + np.sum(x,axis=0))/n\n",
    "      # Check for convergence\n",
    "        if math.sqrt(np.dot(d,d)/n) < tol: return x[iLo]\n",
    "        \n",
    "      # Try reflection\n",
    "        xNew = x[iHi] + 2.0*d              \n",
    "        fNew = F(xNew)        \n",
    "        if fNew <= f[iLo]:        # Accept reflection \n",
    "            x[iHi] = xNew\n",
    "            f[iHi] = fNew\n",
    "          # Try expanding the reflection\n",
    "            xNew = x[iHi] + d               \n",
    "            fNew = F(xNew)\n",
    "            if fNew <= f[iLo]:    # Accept expansion\n",
    "                x[iHi] = xNew\n",
    "                f[iHi] = fNew\n",
    "        else:\n",
    "          # Try reflection again\n",
    "            if fNew <= f[iHi]:    # Accept reflection\n",
    "                x[iHi] = xNew\n",
    "                f[iHi] = fNew\n",
    "            else:\n",
    "              # Try contraction\n",
    "                xNew = x[iHi] + 0.5*d\n",
    "                fNew = F(xNew)\n",
    "                if fNew <= f[iHi]: # Accept contraction\n",
    "                    x[iHi] = xNew\n",
    "                    f[iHi] = fNew\n",
    "                else:\n",
    "                  # Use shrinkage\n",
    "                    for i in range(len(x)):\n",
    "                        if i != iLo:\n",
    "                            x[i] = (x[i] - x[iLo])*0.5\n",
    "                            f[i] = F(x[i])\n",
    "    print(\"Too many iterations in downhill\")\n",
    "    return x[iLo]"
   ]
  },
  {
   "cell_type": "code",
   "execution_count": null,
   "metadata": {
    "ExecuteTime": {
     "end_time": "2019-11-28T12:53:57.195591Z",
     "start_time": "2019-11-28T12:53:57.172263Z"
    }
   },
   "outputs": [],
   "source": [
    "\n",
    "def F(x):   \n",
    "    r = x[0]\n",
    "    h = x[1]\n",
    "    return 2*np.pi*(0.015*r**2 + 0.01*r*h)\n",
    "\n",
    "def volume(x):\n",
    "    r = x[0]\n",
    "    h = x[1]    \n",
    "    return np.pi*h*r**2\n",
    "\n",
    "def Fstar(x):\n",
    "    lam = 1.0E-3 #10000.0 # Constraint multiplier\n",
    "    c = np.minimum(0,volume(x)-330) # Constraint function\n",
    "    return F(x) + lam*c**2\n",
    "\n",
    "\n",
    "xStart = np.array([5.0, 10.0])\n",
    "#xStart = np.array([3.27049441, 9.81148308])\n",
    "sequences = []\n",
    "xMin = downhill(Fstar,xStart, sequences=sequences)\n",
    "sequences = np.array(sequences)\n",
    "\n",
    "print(\"x =\",xMin)\n",
    "print(\"F(x) =\",F(xMin))\n",
    "print(\"Number of cycles =\",sequences.shape[0])\n",
    "print(\"Volume=\", volume(xMin))"
   ]
  },
  {
   "cell_type": "code",
   "execution_count": null,
   "metadata": {
    "ExecuteTime": {
     "end_time": "2019-11-28T12:53:57.207766Z",
     "start_time": "2019-11-28T12:53:57.199839Z"
    }
   },
   "outputs": [],
   "source": [
    "sequences.shape"
   ]
  },
  {
   "cell_type": "code",
   "execution_count": null,
   "metadata": {
    "ExecuteTime": {
     "end_time": "2019-11-28T12:54:08.290424Z",
     "start_time": "2019-11-28T12:53:57.228474Z"
    }
   },
   "outputs": [],
   "source": [
    "\n",
    "import matplotlib.pyplot as plt\n",
    "from matplotlib.patches import Polygon\n",
    "\n",
    "fig = plt.figure(figsize=(16, 12))\n",
    "ax = fig.add_subplot(111)\n",
    "\n",
    "#show the surface\n",
    "X = np.arange(2, 6, 0.05)\n",
    "Y = np.arange(5, 15, 0.05)\n",
    "X, Y = np.meshgrid(X, Y)\n",
    "Z = Fstar(np.array([X,Y]))\n",
    "#ax.plot_surface(X,Y,np.log(Z+0.0001),cmap='rainbow_r', edgecolor='none', cstride=2, rstride=2)\n",
    "#ax.plot_surface(X,Y,Z,cmap='rainbow_r', edgecolor='none', cstride=2, rstride=2)\n",
    "\n",
    "#ax.contourf(X, Y, Z, levels=14, linewidths=0.5, colors='k')\n",
    "#cntr1 = ax1.contourf(xi, yi, zi, levels=14, cmap=\"RdBu_r\")\n",
    "\n",
    "\n",
    "from IPython.display import display, clear_output\n",
    "for i in range(len(sequences)):    \n",
    "    ax.cla() #clear axes    \n",
    "    ax.set_xlabel('r')\n",
    "    ax.set_ylabel('h')    \n",
    "    ax.contourf(X, Y, np.log(Z), 50, cmap=\"rainbow_r\")    \n",
    "    \n",
    "    simplex = sequences[i]\n",
    "    polygon = plt.Polygon(simplex, True, transform=ax.transData._b, linewidth=5, facecolor=\"none\", edgecolor=\"blue\")\n",
    "    ax.add_artist(polygon)\n",
    "\n",
    "    ax.text(0.7, 0.95, \"Iteration %d\"%i, color='black',  fontsize=25, transform=plt.gca().transAxes )    \n",
    "    ax.text(0.7, 0.90,\"x=%8.3f+-%5.3f\"% (np.mean(simplex[:,0]),np.std(simplex[:,0])), color='black',  fontsize=25, transform=plt.gca().transAxes )        \n",
    "    ax.text(0.7, 0.85,\"y=%8.3f+-%5.3f\"% (np.mean(simplex[:,1]),np.std(simplex[:,1])), color='black',  fontsize=25, transform=plt.gca().transAxes )        \n",
    "    ax.text(0.7, 0.80,\"volume=%8.3f\"% (np.mean(volume(np.transpose(simplex)))), color='black',  fontsize=25, transform=plt.gca().transAxes )            \n",
    "    \n",
    "    display(fig)    \n",
    "    clear_output(wait = True)\n",
    "\n",
    "plt.plot(sequences[-1][0][0],sequences[-1][0][1], \"o\", markersize=10, color=\"blue\")\n",
    "\n",
    "\n",
    "#ax.legend()\n"
   ]
  },
  {
   "cell_type": "code",
   "execution_count": null,
   "metadata": {
    "ExecuteTime": {
     "end_time": "2019-11-28T12:54:08.297487Z",
     "start_time": "2019-11-28T12:53:48.619Z"
    }
   },
   "outputs": [],
   "source": [
    "sequences[-1][0]"
   ]
  },
  {
   "cell_type": "code",
   "execution_count": null,
   "metadata": {},
   "outputs": [],
   "source": []
  }
 ],
 "metadata": {
  "kernelspec": {
   "display_name": "Python 3",
   "language": "python",
   "name": "python3"
  },
  "language_info": {
   "codemirror_mode": {
    "name": "ipython",
    "version": 3
   },
   "file_extension": ".py",
   "mimetype": "text/x-python",
   "name": "python",
   "nbconvert_exporter": "python",
   "pygments_lexer": "ipython3",
   "version": "3.5.2"
  },
  "varInspector": {
   "cols": {
    "lenName": 16,
    "lenType": 16,
    "lenVar": 40
   },
   "kernels_config": {
    "python": {
     "delete_cmd_postfix": "",
     "delete_cmd_prefix": "del ",
     "library": "var_list.py",
     "varRefreshCmd": "print(var_dic_list())"
    },
    "r": {
     "delete_cmd_postfix": ") ",
     "delete_cmd_prefix": "rm(",
     "library": "var_list.r",
     "varRefreshCmd": "cat(var_dic_list()) "
    }
   },
   "types_to_exclude": [
    "module",
    "function",
    "builtin_function_or_method",
    "instance",
    "_Feature"
   ],
   "window_display": false
  }
 },
 "nbformat": 4,
 "nbformat_minor": 2
}
